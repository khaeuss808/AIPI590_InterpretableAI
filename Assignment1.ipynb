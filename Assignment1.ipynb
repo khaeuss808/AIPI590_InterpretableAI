{
 "cells": [
  {
   "cell_type": "markdown",
   "metadata": {},
   "source": [
    "# AIPI 590 - XAI | Assignment #2\n",
    "### Interpretable ML\n",
    "### Kayla Haeussler\n",
    "\n",
    "#### Include the button below. Change the link to the location in your github repository:\n",
    "#### Example: https://github.com/khaeuss808/AIPI590_InterpretableAI/blob/main/Assignment1.ipynb\n",
    "\n",
    "\n",
    "[![Open In Collab](https://colab.research.google.com/assets/colab-badge.svg)](https://github.com/khaeuss808/AIPI590_InterpretableAI/blob/main/Assignment1.ipynb)"
   ]
  },
  {
   "cell_type": "code",
   "execution_count": 24,
   "metadata": {},
   "outputs": [
    {
     "name": "stdout",
     "output_type": "stream",
     "text": [
      "rm: ./sample_data: No such file or directory\n",
      "fatal: destination path 'AIPI590_InterpretableAI' already exists and is not an empty directory.\n",
      "[Errno 2] No such file or directory: 'AIPI590_InterpretableAI/templates'\n",
      "/Users/kaylahaeusssler/Documents/XAI/AIPI590_InterpretableAI\n",
      "\u001b[1m\u001b[36mAIPI590_InterpretableAI\u001b[m\u001b[m/              README.md\n",
      "Assignment1.ipynb                     WA_Fn-UseC_-Telco-Customer-Churn.csv\n"
     ]
    }
   ],
   "source": [
    "# Please use this to connect your GitHub repository to your Google Colab notebook\n",
    "# Connects to any needed files from GitHub and Google Drive\n",
    "import os\n",
    "\n",
    "# Remove Colab default sample_data\n",
    "!rm -r ./sample_data\n",
    "\n",
    "# Clone GitHub files to colab workspace\n",
    "repo_name = \"AIPI590_InterpretableAI\" # Change to your repo name\n",
    "git_path = 'https://github.com/khaeuss808/AIPI590_InterpretableAI.git' #Change to your path\n",
    "!git clone \"{git_path}\"\n",
    "\n",
    "# Install dependencies from requirements.txt file\n",
    "#!pip install -r \"{os.path.join(repo_name,'requirements.txt')}\" #Add if using requirements.txt\n",
    "\n",
    "# Change working directory to location of notebook\n",
    "notebook_dir = 'templates'\n",
    "path_to_notebook = os.path.join(repo_name,notebook_dir)\n",
    "%cd \"{path_to_notebook}\"\n",
    "%ls"
   ]
  },
  {
   "cell_type": "markdown",
   "metadata": {},
   "source": [
    "#### Using environment variables in Google Colab\n",
    "\n",
    "In Google Colab, locate the key button on the left side of the screen. You can enter in any environment variables or API keys here and they will remain private.\n",
    "\n",
    "Then add the environment variables to your notebook using the code below.\n",
    "\n",
    "Make sure to document in your notebook if you are using API keys and how to get them (ie share a link for documentation to get a Hugging Face API Key if you are using Hugging Face)"
   ]
  },
  {
   "cell_type": "code",
   "execution_count": 25,
   "metadata": {},
   "outputs": [
    {
     "ename": "ModuleNotFoundError",
     "evalue": "No module named 'google'",
     "output_type": "error",
     "traceback": [
      "\u001b[0;31m---------------------------------------------------------------------------\u001b[0m",
      "\u001b[0;31mModuleNotFoundError\u001b[0m                       Traceback (most recent call last)",
      "Cell \u001b[0;32mIn[25], line 1\u001b[0m\n\u001b[0;32m----> 1\u001b[0m \u001b[38;5;28;01mfrom\u001b[39;00m \u001b[38;5;21;01mgoogle\u001b[39;00m\u001b[38;5;21;01m.\u001b[39;00m\u001b[38;5;21;01mcolab\u001b[39;00m \u001b[38;5;28;01mimport\u001b[39;00m userdata\n\u001b[1;32m      3\u001b[0m userdata\u001b[38;5;241m.\u001b[39mget(\u001b[38;5;124m\"\u001b[39m\u001b[38;5;124msecretName\u001b[39m\u001b[38;5;124m\"\u001b[39m)\n",
      "\u001b[0;31mModuleNotFoundError\u001b[0m: No module named 'google'"
     ]
    }
   ],
   "source": [
    "from google.colab import userdata\n",
    "\n",
    "userdata.get(\"secretName\")"
   ]
  },
  {
   "cell_type": "code",
   "execution_count": 163,
   "metadata": {},
   "outputs": [],
   "source": [
    "import numpy as np\n",
    "import pandas as pd\n",
    "from sklearn.model_selection import train_test_split\n",
    "from sklearn.preprocessing import StandardScaler\n",
    "from sklearn.linear_model import LinearRegression, LogisticRegression\n",
    "from sklearn.metrics import (\n",
    "    mean_squared_error,\n",
    "    r2_score,\n",
    "    accuracy_score,\n",
    "    roc_auc_score,\n",
    "    confusion_matrix,\n",
    "    classification_report,\n",
    "    RocCurveDisplay,\n",
    "    PrecisionRecallDisplay,\n",
    "    log_loss,\n",
    ")\n",
    "import matplotlib.pyplot as plt\n",
    "import seaborn as sns\n",
    "from scipy import stats\n",
    "import statsmodels.formula.api as smf\n",
    "import statsmodels.api as sm\n",
    "from statsmodels.stats.outliers_influence import variance_inflation_factor\n",
    "from statsmodels.stats.stattools import durbin_watson\n",
    "from pygam import LogisticGAM"
   ]
  },
  {
   "cell_type": "code",
   "execution_count": 133,
   "metadata": {},
   "outputs": [],
   "source": [
    "df = pd.read_csv(\"WA_Fn-UseC_-Telco-Customer-Churn.csv\")"
   ]
  },
  {
   "cell_type": "markdown",
   "metadata": {},
   "source": [
    "# (1) Exploratory Data Analysis"
   ]
  },
  {
   "cell_type": "markdown",
   "metadata": {},
   "source": [
    "> Will begin by encoding Churn as 0 and 1, as opposed to current state of Yes and No"
   ]
  },
  {
   "cell_type": "code",
   "execution_count": 134,
   "metadata": {},
   "outputs": [
    {
     "name": "stdout",
     "output_type": "stream",
     "text": [
      "(7043, 21)\n"
     ]
    }
   ],
   "source": [
    "print(df.shape)\n",
    "\n",
    "# Y var\n",
    "df[\"Churn\"] = [1 if x == \"Yes\" else 0 for x in df[\"Churn\"]]"
   ]
  },
  {
   "cell_type": "code",
   "execution_count": 135,
   "metadata": {},
   "outputs": [
    {
     "data": {
      "text/plain": [
       "customerID           object\n",
       "gender               object\n",
       "SeniorCitizen         int64\n",
       "Partner              object\n",
       "Dependents           object\n",
       "tenure                int64\n",
       "PhoneService         object\n",
       "MultipleLines        object\n",
       "InternetService      object\n",
       "OnlineSecurity       object\n",
       "OnlineBackup         object\n",
       "DeviceProtection     object\n",
       "TechSupport          object\n",
       "StreamingTV          object\n",
       "StreamingMovies      object\n",
       "Contract             object\n",
       "PaperlessBilling     object\n",
       "PaymentMethod        object\n",
       "MonthlyCharges      float64\n",
       "TotalCharges         object\n",
       "Churn                 int64\n",
       "dtype: object"
      ]
     },
     "execution_count": 135,
     "metadata": {},
     "output_type": "execute_result"
    }
   ],
   "source": [
    "df.dtypes"
   ]
  },
  {
   "cell_type": "markdown",
   "metadata": {},
   "source": [
    "> TotalCharges is of type object, but should be numeric. Converting below and also removing the 11 rows that resulted in NaNs"
   ]
  },
  {
   "cell_type": "code",
   "execution_count": 136,
   "metadata": {},
   "outputs": [],
   "source": [
    "df[\"TotalCharges\"] = pd.to_numeric(df[\"TotalCharges\"], errors=\"coerce\")\n",
    "df[df[\"TotalCharges\"].isna()]\n",
    "df = df.dropna(subset=[\"TotalCharges\"])"
   ]
  },
  {
   "cell_type": "markdown",
   "metadata": {},
   "source": [
    "> Encoding categorical variables as is necessary for our future models"
   ]
  },
  {
   "cell_type": "code",
   "execution_count": 137,
   "metadata": {},
   "outputs": [
    {
     "name": "stdout",
     "output_type": "stream",
     "text": [
      "(7032, 31)\n"
     ]
    }
   ],
   "source": [
    "# customerID does not contribute value to the model as it is just a unique\n",
    "#       identifier for customers, so I am dropping that col\n",
    "df = df.drop(columns=[\"customerID\"])\n",
    "df_log = df.copy()  # for use in question 3, logistic regression\n",
    "df_encoded = pd.get_dummies(df, drop_first=True, dtype=float)\n",
    "print(df_encoded.shape)"
   ]
  },
  {
   "cell_type": "markdown",
   "metadata": {},
   "source": [
    "> Splitting our data into features and output variable, and then splitting into training and test set for use in the following models"
   ]
  },
  {
   "cell_type": "code",
   "execution_count": 138,
   "metadata": {},
   "outputs": [],
   "source": [
    "X = df_encoded.drop(columns=[\"Churn\"])\n",
    "y = df_encoded[\"Churn\"]\n",
    "\n",
    "X_train, X_test, y_train, y_test = train_test_split(\n",
    "    X, y, test_size=0.2, random_state=42\n",
    ")"
   ]
  },
  {
   "cell_type": "markdown",
   "metadata": {},
   "source": [
    "> In the assingment description, this question also asks us to check that assumptions are met for each of the following models. Since assessing the assumptions in most cases requires first fitting the model, I check assumptions after fitting the models in each of the corresponding sections"
   ]
  },
  {
   "cell_type": "markdown",
   "metadata": {},
   "source": [
    "# (2) Linear Regression"
   ]
  },
  {
   "cell_type": "markdown",
   "metadata": {},
   "source": [
    "Linear Regression holds the following assumptions (as listed in class slides)\n",
    "* Linearity\n",
    "* Independence\n",
    "* Homoscedasticity\n",
    "* Normality of Residuals\n",
    "* No Multicolinearity\n",
    "* No Autocorrelation\n",
    "\n",
    "After fitting my Linear Regression model below, I then evaluate if these assumptions are uphelp. I list the name of the assumption and then the corresponding plot/test in an md box."
   ]
  },
  {
   "cell_type": "markdown",
   "metadata": {},
   "source": [
    "> Below are evaluate model and residual plotting functions contained in Dr. Bent's notebook regression-interpretability.ipynb on the course GitHub"
   ]
  },
  {
   "cell_type": "code",
   "execution_count": 139,
   "metadata": {},
   "outputs": [],
   "source": [
    "def evaluate_model(model, X_train, X_test, y_train, y_test, model_name):\n",
    "    model.fit(X_train, y_train)\n",
    "    y_pred = model.predict(X_test)\n",
    "    mse = mean_squared_error(y_test, y_pred)\n",
    "    r2 = r2_score(y_test, y_pred)\n",
    "\n",
    "    print(f\"\\n{model_name}:\")\n",
    "    print(f\"MSE: {mse:.2f}\")\n",
    "    print(f\"R2 Score: {r2:.2f}\")\n",
    "\n",
    "    for feature, coef in zip(X.columns, model.coef_):\n",
    "        print(f\"{feature}: {coef:.4f}\")\n",
    "\n",
    "    return model, y_pred"
   ]
  },
  {
   "cell_type": "markdown",
   "metadata": {},
   "source": [
    "> I fit and evulate the Linear Regression model below, using the evaluate_model function defined above"
   ]
  },
  {
   "cell_type": "code",
   "execution_count": 140,
   "metadata": {},
   "outputs": [
    {
     "name": "stdout",
     "output_type": "stream",
     "text": [
      "\n",
      "Linear Regression:\n",
      "MSE: 0.15\n",
      "R2 Score: 0.25\n",
      "SeniorCitizen: 0.0546\n",
      "tenure: -0.0019\n",
      "MonthlyCharges: -0.0037\n",
      "TotalCharges: -0.0000\n",
      "gender_Male: -0.0037\n",
      "Partner_Yes: 0.0070\n",
      "Dependents_Yes: -0.0284\n",
      "PhoneService_Yes: 0.0214\n",
      "MultipleLines_No phone service: -0.0214\n",
      "MultipleLines_Yes: 0.0685\n",
      "InternetService_Fiber optic: 0.2735\n",
      "InternetService_No: -0.0333\n",
      "OnlineSecurity_No internet service: -0.0333\n",
      "OnlineSecurity_Yes: -0.0372\n",
      "OnlineBackup_No internet service: -0.0333\n",
      "OnlineBackup_Yes: 0.0076\n",
      "DeviceProtection_No internet service: -0.0333\n",
      "DeviceProtection_Yes: 0.0215\n",
      "TechSupport_No internet service: -0.0333\n",
      "TechSupport_Yes: -0.0380\n",
      "StreamingTV_No internet service: -0.0333\n",
      "StreamingTV_Yes: 0.0921\n",
      "StreamingMovies_No internet service: -0.0333\n",
      "StreamingMovies_Yes: 0.0953\n",
      "Contract_One year: -0.1167\n",
      "Contract_Two year: -0.0746\n",
      "PaperlessBilling_Yes: 0.0359\n",
      "PaymentMethod_Credit card (automatic): -0.0095\n",
      "PaymentMethod_Electronic check: 0.0623\n",
      "PaymentMethod_Mailed check: -0.0064\n"
     ]
    }
   ],
   "source": [
    "lr_model, lr_pred = evaluate_model(\n",
    "    LinearRegression(), X_train, X_test, y_train, y_test, \"Linear Regression\"\n",
    ")"
   ]
  },
  {
   "cell_type": "markdown",
   "metadata": {},
   "source": [
    "> R-squared is pretty low, only 25% of the variation in Churn is explained by this model. Linear regression is difficult to interpret in a classification setting like this (Churn/no Churn). Typically, we interpret coefficients in linear regression by how they increase/decrease the continuous outcome variable, but because the outcome variable is not continouos in this case, Linear regression is not a great choice (as we see when assumptions are assessed below) and it is difficult to interpret the coefficients"
   ]
  },
  {
   "cell_type": "markdown",
   "metadata": {},
   "source": [
    "### Linearity & Homoscedasticity: Residuals vs Fitted Plot"
   ]
  },
  {
   "cell_type": "code",
   "execution_count": 141,
   "metadata": {},
   "outputs": [
    {
     "data": {
      "image/png": "[encoded data removed]",
      "text/plain": [
       "<Figure size 1000x600 with 1 Axes>"
      ]
     },
     "metadata": {},
     "output_type": "display_data"
    }
   ],
   "source": [
    "# Residual Plot: from Dr. Bent's notebook\n",
    "def plot_residuals(y_test, y_pred, model_name):\n",
    "    residuals = y_test - y_pred\n",
    "    plt.figure(figsize=(10, 6))\n",
    "    plt.scatter(y_pred, residuals)\n",
    "    plt.xlabel(\"Predicted Values\")\n",
    "    plt.ylabel(\"Residuals\")\n",
    "    plt.title(f\"Residual Plot - {model_name}\")\n",
    "    plt.axhline(y=0, color=\"r\", linestyle=\"--\")\n",
    "    plt.tight_layout()\n",
    "    plt.show()\n",
    "\n",
    "\n",
    "plot_residuals(y_test, lr_pred, \"Linear Regression\")"
   ]
  },
  {
   "cell_type": "markdown",
   "metadata": {},
   "source": [
    "> The above plot shows two strong lines, not a random cloud pattern, which tells us the linearity assumption is violated. The two strong lines also have variance that changes with the fitted values (diagonalness) which tells us that homoscedasticity is violated"
   ]
  },
  {
   "cell_type": "markdown",
   "metadata": {},
   "source": [
    "### Normality of Residuals: QQ Plot"
   ]
  },
  {
   "cell_type": "code",
   "execution_count": 142,
   "metadata": {},
   "outputs": [
    {
     "data": {
      "image/png": "[encoded data removed]",
      "text/plain": [
       "<Figure size 1000x600 with 1 Axes>"
      ]
     },
     "metadata": {},
     "output_type": "display_data"
    }
   ],
   "source": [
    "residuals = y_test - lr_pred\n",
    "plt.figure(figsize=(10, 6))\n",
    "stats.probplot(residuals, dist=\"norm\", plot=plt)\n",
    "plt.title(f\"Q–Q Plot — Linear Regression\")\n",
    "plt.tight_layout()\n",
    "plt.show()"
   ]
  },
  {
   "cell_type": "markdown",
   "metadata": {},
   "source": [
    "> The above plot shows variation from the diagonal (S shape) which tells us residuals are not normal and this assumption is violated."
   ]
  },
  {
   "cell_type": "markdown",
   "metadata": {},
   "source": [
    "### Multicollinearity: VIF"
   ]
  },
  {
   "cell_type": "code",
   "execution_count": 143,
   "metadata": {},
   "outputs": [
    {
     "name": "stderr",
     "output_type": "stream",
     "text": [
      "/Users/kaylahaeusssler/miniforge3/lib/python3.12/site-packages/statsmodels/stats/outliers_influence.py:197: RuntimeWarning: divide by zero encountered in scalar divide\n",
      "  vif = 1. / (1. - r_squared_i)\n"
     ]
    },
    {
     "name": "stdout",
     "output_type": "stream",
     "text": [
      "\n",
      "VIF > 5:\n",
      "                                  feature         VIF\n",
      "11                    InternetService_No         inf\n",
      "12    OnlineSecurity_No internet service         inf\n",
      "20       StreamingTV_No internet service         inf\n",
      "18       TechSupport_No internet service         inf\n",
      "16  DeviceProtection_No internet service         inf\n",
      "7                       PhoneService_Yes         inf\n",
      "8         MultipleLines_No phone service         inf\n",
      "14      OnlineBackup_No internet service         inf\n",
      "22   StreamingMovies_No internet service         inf\n",
      "2                         MonthlyCharges  875.944051\n",
      "10           InternetService_Fiber optic  149.302028\n",
      "23                   StreamingMovies_Yes   24.332467\n",
      "21                       StreamingTV_Yes   24.176885\n",
      "3                           TotalCharges   10.667213\n",
      "1                                 tenure    7.475610\n",
      "9                      MultipleLines_Yes    7.316372\n",
      "17                  DeviceProtection_Yes    6.896485\n",
      "15                      OnlineBackup_Yes    6.876888\n",
      "19                       TechSupport_Yes    6.508620\n",
      "13                    OnlineSecurity_Yes    6.382090\n"
     ]
    }
   ],
   "source": [
    "# ChatGPT was used to generate this block of code\n",
    "Xv = sm.add_constant(X_train, has_constant=\"add\")  # add intercept\n",
    "\n",
    "vif = pd.DataFrame(\n",
    "    {\n",
    "        \"feature\": Xv.columns[1:],  # skip intercept\n",
    "        \"VIF\": [variance_inflation_factor(Xv.values, i) for i in range(1, Xv.shape[1])],\n",
    "    }\n",
    ").sort_values(\"VIF\", ascending=False)\n",
    "\n",
    "# print(vif)\n",
    "print(\"\\nVIF > 5:\\n\", vif[vif[\"VIF\"] > 5])"
   ]
  },
  {
   "cell_type": "markdown",
   "metadata": {},
   "source": [
    "### Autocorrelation: Durbin Watson Test"
   ]
  },
  {
   "cell_type": "code",
   "execution_count": 144,
   "metadata": {},
   "outputs": [
    {
     "name": "stdout",
     "output_type": "stream",
     "text": [
      "Durbin–Watson: 1.997\n"
     ]
    }
   ],
   "source": [
    "# ChatGPT was used to generate this block of code\n",
    "resid_train = y_train - lr_model.predict(X_train)\n",
    "dw = durbin_watson(resid_train)\n",
    "\n",
    "print(f\"Durbin–Watson: {dw:.3f}\")"
   ]
  },
  {
   "cell_type": "markdown",
   "metadata": {},
   "source": [
    "> The result of the DW test being around 2 tells us that there is no autocorrelation and that this assumption is upheld"
   ]
  },
  {
   "cell_type": "markdown",
   "metadata": {},
   "source": [
    "Our linear regression model failed many of the assumptions of an LR model. This result is not surprising to me as linear regression is best used to predict a continuous outcome, and in this case we were using it to predict a binary outcome."
   ]
  },
  {
   "cell_type": "markdown",
   "metadata": {},
   "source": [
    "# (3) Logistic Regression\n",
    "Logistic Regression holds the following assumptions (as listed in class slides)\n",
    "* Linearity\n",
    "* No Multicolinearity\n",
    "* Independence of observations\n",
    "* No influential outliers\n",
    "* Absence of perfect separation\n",
    "* Large Sample Size\n",
    "\n",
    "After fitting my Logistic Regression model below, I then evaluate if these assumptions are uphelp. I list the name of the assumption and then the corresponding plot/test in an md box.\n",
    "Pivoting away from using sklearn's functionality as Dr. Bent had in the functions of her's I was using as I was encountering friction, switching to stat models as I am a little more comfortable"
   ]
  },
  {
   "cell_type": "code",
   "execution_count": 145,
   "metadata": {},
   "outputs": [],
   "source": [
    "# documentation says that with statmodels one must manually add a constant, so doing that here\n",
    "X_train_c = sm.add_constant(X_train, has_constant=\"add\")\n",
    "X_test_c = sm.add_constant(X_test, has_constant=\"add\")\n",
    "\n",
    "# logit_res = sm.Logit(y_train, X_train_c).fit()"
   ]
  },
  {
   "cell_type": "markdown",
   "metadata": {},
   "source": [
    "> When I originally tried to fit my model above I was getting an error saying my design matrix had perfect collinearity. After some digging, I believe this is because there are multiple columns with the level no internet service which are equal to the InternetService and PhoneService column (issue is also seen in VIF of linear regression). In order to continue with the logistic regression, I am converting these levels in the columns of concern to also be \"No\""
   ]
  },
  {
   "cell_type": "code",
   "execution_count": 162,
   "metadata": {},
   "outputs": [
    {
     "name": "stdout",
     "output_type": "stream",
     "text": [
      "Optimization terminated successfully.\n",
      "         Current function value: 0.410277\n",
      "         Iterations 8\n"
     ]
    },
    {
     "data": {
      "text/html": [
       "<table class=\"simpletable\">\n",
       "<caption>Logit Regression Results</caption>\n",
       "<tr>\n",
       "  <th>Dep. Variable:</th>         <td>Churn</td>      <th>  No. Observations:  </th>  <td>  5625</td> \n",
       "</tr>\n",
       "<tr>\n",
       "  <th>Model:</th>                 <td>Logit</td>      <th>  Df Residuals:      </th>  <td>  5601</td> \n",
       "</tr>\n",
       "<tr>\n",
       "  <th>Method:</th>                 <td>MLE</td>       <th>  Df Model:          </th>  <td>    23</td> \n",
       "</tr>\n",
       "<tr>\n",
       "  <th>Date:</th>            <td>Mon, 15 Sep 2025</td> <th>  Pseudo R-squ.:     </th>  <td>0.2914</td> \n",
       "</tr>\n",
       "<tr>\n",
       "  <th>Time:</th>                <td>00:17:09</td>     <th>  Log-Likelihood:    </th> <td> -2307.8</td>\n",
       "</tr>\n",
       "<tr>\n",
       "  <th>converged:</th>             <td>True</td>       <th>  LL-Null:           </th> <td> -3257.0</td>\n",
       "</tr>\n",
       "<tr>\n",
       "  <th>Covariance Type:</th>     <td>nonrobust</td>    <th>  LLR p-value:       </th>  <td> 0.000</td> \n",
       "</tr>\n",
       "</table>\n",
       "<table class=\"simpletable\">\n",
       "<tr>\n",
       "                    <td></td>                       <th>coef</th>     <th>std err</th>      <th>z</th>      <th>P>|z|</th>  <th>[0.025</th>    <th>0.975]</th>  \n",
       "</tr>\n",
       "<tr>\n",
       "  <th>const</th>                                 <td>    1.7158</td> <td>    0.924</td> <td>    1.858</td> <td> 0.063</td> <td>   -0.094</td> <td>    3.526</td>\n",
       "</tr>\n",
       "<tr>\n",
       "  <th>SeniorCitizen</th>                         <td>    0.2597</td> <td>    0.095</td> <td>    2.726</td> <td> 0.006</td> <td>    0.073</td> <td>    0.447</td>\n",
       "</tr>\n",
       "<tr>\n",
       "  <th>tenure</th>                                <td>   -0.0616</td> <td>    0.007</td> <td>   -8.735</td> <td> 0.000</td> <td>   -0.075</td> <td>   -0.048</td>\n",
       "</tr>\n",
       "<tr>\n",
       "  <th>MonthlyCharges</th>                        <td>   -0.0608</td> <td>    0.036</td> <td>   -1.691</td> <td> 0.091</td> <td>   -0.131</td> <td>    0.010</td>\n",
       "</tr>\n",
       "<tr>\n",
       "  <th>TotalCharges</th>                          <td>    0.0003</td> <td> 7.97e-05</td> <td>    4.221</td> <td> 0.000</td> <td>    0.000</td> <td>    0.000</td>\n",
       "</tr>\n",
       "<tr>\n",
       "  <th>gender_Male</th>                           <td>   -0.0302</td> <td>    0.073</td> <td>   -0.414</td> <td> 0.679</td> <td>   -0.173</td> <td>    0.113</td>\n",
       "</tr>\n",
       "<tr>\n",
       "  <th>Partner_Yes</th>                           <td>    0.0504</td> <td>    0.088</td> <td>    0.574</td> <td> 0.566</td> <td>   -0.122</td> <td>    0.222</td>\n",
       "</tr>\n",
       "<tr>\n",
       "  <th>Dependents_Yes</th>                        <td>   -0.2155</td> <td>    0.102</td> <td>   -2.121</td> <td> 0.034</td> <td>   -0.415</td> <td>   -0.016</td>\n",
       "</tr>\n",
       "<tr>\n",
       "  <th>PhoneService_Yes</th>                      <td>    0.5807</td> <td>    0.734</td> <td>    0.791</td> <td> 0.429</td> <td>   -0.857</td> <td>    2.019</td>\n",
       "</tr>\n",
       "<tr>\n",
       "  <th>MultipleLines_Yes</th>                     <td>    0.5235</td> <td>    0.201</td> <td>    2.606</td> <td> 0.009</td> <td>    0.130</td> <td>    0.917</td>\n",
       "</tr>\n",
       "<tr>\n",
       "  <th>InternetService_Fiber optic</th>           <td>    2.2956</td> <td>    0.904</td> <td>    2.541</td> <td> 0.011</td> <td>    0.525</td> <td>    4.067</td>\n",
       "</tr>\n",
       "<tr>\n",
       "  <th>InternetService_No</th>                    <td>   -2.2454</td> <td>    0.913</td> <td>   -2.460</td> <td> 0.014</td> <td>   -4.034</td> <td>   -0.457</td>\n",
       "</tr>\n",
       "<tr>\n",
       "  <th>OnlineSecurity_Yes</th>                    <td>   -0.1484</td> <td>    0.202</td> <td>   -0.735</td> <td> 0.462</td> <td>   -0.544</td> <td>    0.247</td>\n",
       "</tr>\n",
       "<tr>\n",
       "  <th>OnlineBackup_Yes</th>                      <td>    0.1759</td> <td>    0.198</td> <td>    0.887</td> <td> 0.375</td> <td>   -0.213</td> <td>    0.565</td>\n",
       "</tr>\n",
       "<tr>\n",
       "  <th>DeviceProtection_Yes</th>                  <td>    0.2782</td> <td>    0.198</td> <td>    1.402</td> <td> 0.161</td> <td>   -0.111</td> <td>    0.667</td>\n",
       "</tr>\n",
       "<tr>\n",
       "  <th>TechSupport_Yes</th>                       <td>   -0.1194</td> <td>    0.204</td> <td>   -0.585</td> <td> 0.559</td> <td>   -0.520</td> <td>    0.281</td>\n",
       "</tr>\n",
       "<tr>\n",
       "  <th>StreamingTV_Yes</th>                       <td>    0.8290</td> <td>    0.369</td> <td>    2.247</td> <td> 0.025</td> <td>    0.106</td> <td>    1.552</td>\n",
       "</tr>\n",
       "<tr>\n",
       "  <th>StreamingMovies_Yes</th>                   <td>    0.8488</td> <td>    0.370</td> <td>    2.294</td> <td> 0.022</td> <td>    0.123</td> <td>    1.574</td>\n",
       "</tr>\n",
       "<tr>\n",
       "  <th>Contract_One year</th>                     <td>   -0.7698</td> <td>    0.123</td> <td>   -6.268</td> <td> 0.000</td> <td>   -1.010</td> <td>   -0.529</td>\n",
       "</tr>\n",
       "<tr>\n",
       "  <th>Contract_Two year</th>                     <td>   -1.3444</td> <td>    0.196</td> <td>   -6.864</td> <td> 0.000</td> <td>   -1.728</td> <td>   -0.961</td>\n",
       "</tr>\n",
       "<tr>\n",
       "  <th>PaperlessBilling_Yes</th>                  <td>    0.2724</td> <td>    0.083</td> <td>    3.267</td> <td> 0.001</td> <td>    0.109</td> <td>    0.436</td>\n",
       "</tr>\n",
       "<tr>\n",
       "  <th>PaymentMethod_Credit card (automatic)</th> <td>   -0.1410</td> <td>    0.129</td> <td>   -1.095</td> <td> 0.274</td> <td>   -0.393</td> <td>    0.111</td>\n",
       "</tr>\n",
       "<tr>\n",
       "  <th>PaymentMethod_Electronic check</th>        <td>    0.2600</td> <td>    0.106</td> <td>    2.444</td> <td> 0.015</td> <td>    0.051</td> <td>    0.469</td>\n",
       "</tr>\n",
       "<tr>\n",
       "  <th>PaymentMethod_Mailed check</th>            <td>   -0.0714</td> <td>    0.128</td> <td>   -0.557</td> <td> 0.578</td> <td>   -0.323</td> <td>    0.180</td>\n",
       "</tr>\n",
       "</table>"
      ],
      "text/latex": [
       "\\begin{center}\n",
       "\\begin{tabular}{lclc}\n",
       "\\toprule\n",
       "\\textbf{Dep. Variable:}                         &      Churn       & \\textbf{  No. Observations:  } &     5625    \\\\\n",
       "\\textbf{Model:}                                 &      Logit       & \\textbf{  Df Residuals:      } &     5601    \\\\\n",
       "\\textbf{Method:}                                &       MLE        & \\textbf{  Df Model:          } &       23    \\\\\n",
       "\\textbf{Date:}                                  & Mon, 15 Sep 2025 & \\textbf{  Pseudo R-squ.:     } &   0.2914    \\\\\n",
       "\\textbf{Time:}                                  &     00:17:09     & \\textbf{  Log-Likelihood:    } &   -2307.8   \\\\\n",
       "\\textbf{converged:}                             &       True       & \\textbf{  LL-Null:           } &   -3257.0   \\\\\n",
       "\\textbf{Covariance Type:}                       &    nonrobust     & \\textbf{  LLR p-value:       } &    0.000    \\\\\n",
       "\\bottomrule\n",
       "\\end{tabular}\n",
       "\\begin{tabular}{lcccccc}\n",
       "                                                & \\textbf{coef} & \\textbf{std err} & \\textbf{z} & \\textbf{P$> |$z$|$} & \\textbf{[0.025} & \\textbf{0.975]}  \\\\\n",
       "\\midrule\n",
       "\\textbf{const}                                  &       1.7158  &        0.924     &     1.858  &         0.063        &       -0.094    &        3.526     \\\\\n",
       "\\textbf{SeniorCitizen}                          &       0.2597  &        0.095     &     2.726  &         0.006        &        0.073    &        0.447     \\\\\n",
       "\\textbf{tenure}                                 &      -0.0616  &        0.007     &    -8.735  &         0.000        &       -0.075    &       -0.048     \\\\\n",
       "\\textbf{MonthlyCharges}                         &      -0.0608  &        0.036     &    -1.691  &         0.091        &       -0.131    &        0.010     \\\\\n",
       "\\textbf{TotalCharges}                           &       0.0003  &     7.97e-05     &     4.221  &         0.000        &        0.000    &        0.000     \\\\\n",
       "\\textbf{gender\\_Male}                           &      -0.0302  &        0.073     &    -0.414  &         0.679        &       -0.173    &        0.113     \\\\\n",
       "\\textbf{Partner\\_Yes}                           &       0.0504  &        0.088     &     0.574  &         0.566        &       -0.122    &        0.222     \\\\\n",
       "\\textbf{Dependents\\_Yes}                        &      -0.2155  &        0.102     &    -2.121  &         0.034        &       -0.415    &       -0.016     \\\\\n",
       "\\textbf{PhoneService\\_Yes}                      &       0.5807  &        0.734     &     0.791  &         0.429        &       -0.857    &        2.019     \\\\\n",
       "\\textbf{MultipleLines\\_Yes}                     &       0.5235  &        0.201     &     2.606  &         0.009        &        0.130    &        0.917     \\\\\n",
       "\\textbf{InternetService\\_Fiber optic}           &       2.2956  &        0.904     &     2.541  &         0.011        &        0.525    &        4.067     \\\\\n",
       "\\textbf{InternetService\\_No}                    &      -2.2454  &        0.913     &    -2.460  &         0.014        &       -4.034    &       -0.457     \\\\\n",
       "\\textbf{OnlineSecurity\\_Yes}                    &      -0.1484  &        0.202     &    -0.735  &         0.462        &       -0.544    &        0.247     \\\\\n",
       "\\textbf{OnlineBackup\\_Yes}                      &       0.1759  &        0.198     &     0.887  &         0.375        &       -0.213    &        0.565     \\\\\n",
       "\\textbf{DeviceProtection\\_Yes}                  &       0.2782  &        0.198     &     1.402  &         0.161        &       -0.111    &        0.667     \\\\\n",
       "\\textbf{TechSupport\\_Yes}                       &      -0.1194  &        0.204     &    -0.585  &         0.559        &       -0.520    &        0.281     \\\\\n",
       "\\textbf{StreamingTV\\_Yes}                       &       0.8290  &        0.369     &     2.247  &         0.025        &        0.106    &        1.552     \\\\\n",
       "\\textbf{StreamingMovies\\_Yes}                   &       0.8488  &        0.370     &     2.294  &         0.022        &        0.123    &        1.574     \\\\\n",
       "\\textbf{Contract\\_One year}                     &      -0.7698  &        0.123     &    -6.268  &         0.000        &       -1.010    &       -0.529     \\\\\n",
       "\\textbf{Contract\\_Two year}                     &      -1.3444  &        0.196     &    -6.864  &         0.000        &       -1.728    &       -0.961     \\\\\n",
       "\\textbf{PaperlessBilling\\_Yes}                  &       0.2724  &        0.083     &     3.267  &         0.001        &        0.109    &        0.436     \\\\\n",
       "\\textbf{PaymentMethod\\_Credit card (automatic)} &      -0.1410  &        0.129     &    -1.095  &         0.274        &       -0.393    &        0.111     \\\\\n",
       "\\textbf{PaymentMethod\\_Electronic check}        &       0.2600  &        0.106     &     2.444  &         0.015        &        0.051    &        0.469     \\\\\n",
       "\\textbf{PaymentMethod\\_Mailed check}            &      -0.0714  &        0.128     &    -0.557  &         0.578        &       -0.323    &        0.180     \\\\\n",
       "\\bottomrule\n",
       "\\end{tabular}\n",
       "%\\caption{Logit Regression Results}\n",
       "\\end{center}"
      ],
      "text/plain": [
       "<class 'statsmodels.iolib.summary.Summary'>\n",
       "\"\"\"\n",
       "                           Logit Regression Results                           \n",
       "==============================================================================\n",
       "Dep. Variable:                  Churn   No. Observations:                 5625\n",
       "Model:                          Logit   Df Residuals:                     5601\n",
       "Method:                           MLE   Df Model:                           23\n",
       "Date:                Mon, 15 Sep 2025   Pseudo R-squ.:                  0.2914\n",
       "Time:                        00:17:09   Log-Likelihood:                -2307.8\n",
       "converged:                       True   LL-Null:                       -3257.0\n",
       "Covariance Type:            nonrobust   LLR p-value:                     0.000\n",
       "=========================================================================================================\n",
       "                                            coef    std err          z      P>|z|      [0.025      0.975]\n",
       "---------------------------------------------------------------------------------------------------------\n",
       "const                                     1.7158      0.924      1.858      0.063      -0.094       3.526\n",
       "SeniorCitizen                             0.2597      0.095      2.726      0.006       0.073       0.447\n",
       "tenure                                   -0.0616      0.007     -8.735      0.000      -0.075      -0.048\n",
       "MonthlyCharges                           -0.0608      0.036     -1.691      0.091      -0.131       0.010\n",
       "TotalCharges                              0.0003   7.97e-05      4.221      0.000       0.000       0.000\n",
       "gender_Male                              -0.0302      0.073     -0.414      0.679      -0.173       0.113\n",
       "Partner_Yes                               0.0504      0.088      0.574      0.566      -0.122       0.222\n",
       "Dependents_Yes                           -0.2155      0.102     -2.121      0.034      -0.415      -0.016\n",
       "PhoneService_Yes                          0.5807      0.734      0.791      0.429      -0.857       2.019\n",
       "MultipleLines_Yes                         0.5235      0.201      2.606      0.009       0.130       0.917\n",
       "InternetService_Fiber optic               2.2956      0.904      2.541      0.011       0.525       4.067\n",
       "InternetService_No                       -2.2454      0.913     -2.460      0.014      -4.034      -0.457\n",
       "OnlineSecurity_Yes                       -0.1484      0.202     -0.735      0.462      -0.544       0.247\n",
       "OnlineBackup_Yes                          0.1759      0.198      0.887      0.375      -0.213       0.565\n",
       "DeviceProtection_Yes                      0.2782      0.198      1.402      0.161      -0.111       0.667\n",
       "TechSupport_Yes                          -0.1194      0.204     -0.585      0.559      -0.520       0.281\n",
       "StreamingTV_Yes                           0.8290      0.369      2.247      0.025       0.106       1.552\n",
       "StreamingMovies_Yes                       0.8488      0.370      2.294      0.022       0.123       1.574\n",
       "Contract_One year                        -0.7698      0.123     -6.268      0.000      -1.010      -0.529\n",
       "Contract_Two year                        -1.3444      0.196     -6.864      0.000      -1.728      -0.961\n",
       "PaperlessBilling_Yes                      0.2724      0.083      3.267      0.001       0.109       0.436\n",
       "PaymentMethod_Credit card (automatic)    -0.1410      0.129     -1.095      0.274      -0.393       0.111\n",
       "PaymentMethod_Electronic check            0.2600      0.106      2.444      0.015       0.051       0.469\n",
       "PaymentMethod_Mailed check               -0.0714      0.128     -0.557      0.578      -0.323       0.180\n",
       "=========================================================================================================\n",
       "\"\"\""
      ]
     },
     "execution_count": 162,
     "metadata": {},
     "output_type": "execute_result"
    }
   ],
   "source": [
    "# columns with the \"no internet service\" level\n",
    "svc_cols = [\n",
    "    \"OnlineSecurity\",\n",
    "    \"OnlineBackup\",\n",
    "    \"DeviceProtection\",\n",
    "    \"TechSupport\",\n",
    "    \"StreamingTV\",\n",
    "    \"StreamingMovies\",\n",
    "]\n",
    "# changing to no\n",
    "df_log[svc_cols] = df_log[svc_cols].replace({\"No internet service\": \"No\"})\n",
    "df_log[\"MultipleLines\"] = df_log[\"MultipleLines\"].replace({\"No phone service\": \"No\"})\n",
    "\n",
    "# re encoding now that that issue is hopefully fixed\n",
    "df_encoded = pd.get_dummies(df_log, drop_first=True, dtype=float)\n",
    "\n",
    "# replitting X and y\n",
    "X = df_encoded.drop(columns=[\"Churn\"])\n",
    "y = df_encoded[\"Churn\"]\n",
    "X_train, X_test, y_train, y_test = train_test_split(\n",
    "    X, y, test_size=0.2, random_state=42\n",
    ")\n",
    "\n",
    "# adding the contstants again\n",
    "X_train_c = sm.add_constant(X_train, has_constant=\"add\")\n",
    "X_test_c = sm.add_constant(X_test, has_constant=\"add\")\n",
    "logit_res = sm.Logit(y_train, X_train_c).fit()\n",
    "\n",
    "logit_res.summary()"
   ]
  },
  {
   "cell_type": "markdown",
   "metadata": {},
   "source": [
    "> Logistic regression is much better suited to binary classification than linear regression, so interpreting the coefficients is possible here. There are many significant features (pvalue >0.05), we can interpret these as those who effect the odds with significance, from their reference level in the case of categorical variables. Each coefficient represents a change in log-odds. To interpret a specific feature for example, being a senior citizen is associated with about a 26% higher odds of churn compared with non-senior citizens, holding other variables constant. Another example, higher tenure lowers chance of churn by approximately 6% per month holding all other variables constant."
   ]
  },
  {
   "cell_type": "markdown",
   "metadata": {},
   "source": [
    "### Linearity: Box-Tidwell"
   ]
  },
  {
   "cell_type": "code",
   "execution_count": 149,
   "metadata": {},
   "outputs": [
    {
     "name": "stdout",
     "output_type": "stream",
     "text": [
      "\n",
      "Linearity check (Box–Tidwell p-values; p<0.05 => nonlinearity):\n",
      "         variable       p_xlogx\n",
      "0          tenure  2.705971e-15\n",
      "2    TotalCharges  1.207470e-08\n",
      "1  MonthlyCharges  5.431861e-01\n"
     ]
    }
   ],
   "source": [
    "cont_cols = [\n",
    "    c for c in X_train.columns if X_train[c].nunique() > 5\n",
    "]  # heuristic for \"continuous\"\n",
    "bt_rows = []\n",
    "for col in cont_cols:\n",
    "    x = X_train[col].astype(float)\n",
    "    x_pos = x - x.min() + 1e-6  # shift so log() is defined\n",
    "    X_bt = X_train.copy()\n",
    "    X_bt[f\"{col}_xlogx\"] = x_pos * np.log(x_pos)\n",
    "    X_bt_c = sm.add_constant(X_bt, has_constant=\"add\")\n",
    "    res_bt = sm.Logit(y_train, X_bt_c).fit(disp=0)\n",
    "    p = res_bt.pvalues.get(f\"{col}_xlogx\", np.nan)\n",
    "    bt_rows.append((col, p))\n",
    "\n",
    "bt_df = pd.DataFrame(bt_rows, columns=[\"variable\", \"p_xlogx\"]).sort_values(\"p_xlogx\")\n",
    "print(\"\\nLinearity check (Box–Tidwell p-values; p<0.05 => nonlinearity):\")\n",
    "print(bt_df)"
   ]
  },
  {
   "cell_type": "markdown",
   "metadata": {},
   "source": [
    "### Multicolinearity: VIF"
   ]
  },
  {
   "cell_type": "code",
   "execution_count": 152,
   "metadata": {},
   "outputs": [
    {
     "name": "stdout",
     "output_type": "stream",
     "text": [
      "\n",
      "Top VIFs:\n",
      "                           feature         VIF\n",
      "2                   MonthlyCharges  875.944051\n",
      "9      InternetService_Fiber optic  149.302028\n",
      "10              InternetService_No  105.613911\n",
      "7                 PhoneService_Yes   35.297238\n",
      "16             StreamingMovies_Yes   24.332467\n",
      "15                 StreamingTV_Yes   24.176885\n",
      "3                     TotalCharges   10.667213\n",
      "1                           tenure    7.475610\n",
      "8                MultipleLines_Yes    7.316372\n",
      "13            DeviceProtection_Yes    6.896485\n",
      "12                OnlineBackup_Yes    6.876888\n",
      "14                 TechSupport_Yes    6.508620\n",
      "11              OnlineSecurity_Yes    6.382090\n",
      "18               Contract_Two year    2.672992\n",
      "21  PaymentMethod_Electronic check    1.982153\n",
      "\n",
      "VIF > 5:\n",
      "                        feature         VIF\n",
      "2                MonthlyCharges  875.944051\n",
      "9   InternetService_Fiber optic  149.302028\n",
      "10           InternetService_No  105.613911\n",
      "7              PhoneService_Yes   35.297238\n",
      "16          StreamingMovies_Yes   24.332467\n",
      "15              StreamingTV_Yes   24.176885\n",
      "3                  TotalCharges   10.667213\n",
      "1                        tenure    7.475610\n",
      "8             MultipleLines_Yes    7.316372\n",
      "13         DeviceProtection_Yes    6.896485\n",
      "12             OnlineBackup_Yes    6.876888\n",
      "14              TechSupport_Yes    6.508620\n",
      "11           OnlineSecurity_Yes    6.382090\n"
     ]
    }
   ],
   "source": [
    "vif_df = pd.DataFrame(\n",
    "    {\n",
    "        \"feature\": X_train_c.columns[1:],  # skip intercept\n",
    "        \"VIF\": [\n",
    "            variance_inflation_factor(X_train_c.values, i)\n",
    "            for i in range(1, X_train_c.shape[1])\n",
    "        ],\n",
    "    }\n",
    ").sort_values(\"VIF\", ascending=False)\n",
    "\n",
    "print(\"\\nTop VIFs:\")\n",
    "print(vif_df.head(15))\n",
    "print(\"\\nVIF > 5:\")\n",
    "print(vif_df[vif_df[\"VIF\"] > 5])"
   ]
  },
  {
   "cell_type": "markdown",
   "metadata": {},
   "source": [
    "### Independence: Durbin Watson"
   ]
  },
  {
   "cell_type": "code",
   "execution_count": 155,
   "metadata": {},
   "outputs": [
    {
     "name": "stdout",
     "output_type": "stream",
     "text": [
      "Durbin–Watson: 1.995\n"
     ]
    }
   ],
   "source": [
    "p_train = logit_res.predict(X_train_c)\n",
    "resid_response = y_train - p_train\n",
    "print(\"Durbin–Watson:\", f\"{durbin_watson(resid_response):.3f}\")"
   ]
  },
  {
   "cell_type": "markdown",
   "metadata": {},
   "source": [
    "### Influential Outliers: Cook's Distance"
   ]
  },
  {
   "cell_type": "code",
   "execution_count": 159,
   "metadata": {},
   "outputs": [
    {
     "name": "stdout",
     "output_type": "stream",
     "text": [
      "\n",
      "Potentially influential (Cook's D > 4/n):\n",
      "      dfb_const  dfb_SeniorCitizen  dfb_tenure  dfb_MonthlyCharges  \\\n",
      "268   -0.024565          -0.000963    0.284109           -0.003224   \n",
      "4272  -0.049157          -0.020343    0.225220            0.024106   \n",
      "430   -0.031127          -0.009368    0.289276            0.000007   \n",
      "4819  -0.018826           0.018796    0.226179            0.006281   \n",
      "6792  -0.027522          -0.015823    0.234708            0.006963   \n",
      "4149   0.004827          -0.029808    0.172365           -0.007973   \n",
      "6813   0.058428          -0.021607    0.148689           -0.059978   \n",
      "6424   0.004884          -0.033494    0.151676           -0.009143   \n",
      "6724  -0.032421           0.090176    0.087878            0.019232   \n",
      "4386   0.068906           0.011811    0.105191           -0.076394   \n",
      "\n",
      "      dfb_TotalCharges  dfb_gender_Male  dfb_Partner_Yes  dfb_Dependents_Yes  \\\n",
      "268          -0.268957         0.031430        -0.037621           -0.033410   \n",
      "4272         -0.232847         0.033096         0.050241           -0.065790   \n",
      "430          -0.251860        -0.042170         0.006532            0.040998   \n",
      "4819         -0.218106         0.033157        -0.082538            0.072571   \n",
      "6792         -0.220805         0.033178        -0.041795           -0.022726   \n",
      "4149         -0.161722         0.033095         0.039234           -0.056863   \n",
      "6813         -0.142313        -0.036238         0.039596           -0.053142   \n",
      "6424         -0.143325        -0.036050         0.038246           -0.053958   \n",
      "6724         -0.076100        -0.032579        -0.050516           -0.006945   \n",
      "4386         -0.103833         0.037866         0.003510            0.039124   \n",
      "\n",
      "      dfb_PhoneService_Yes  dfb_MultipleLines_Yes  ...  dfb_Contract_One year  \\\n",
      "268               0.017646               0.003720  ...              -0.002403   \n",
      "4272             -0.013968               0.013401  ...               0.008883   \n",
      "430               0.013665              -0.004895  ...              -0.064019   \n",
      "4819              0.004920              -0.006295  ...              -0.001335   \n",
      "6792              0.002028               0.030452  ...               0.071695   \n",
      "4149              0.000336               0.001881  ...              -0.004188   \n",
      "6813              0.047800               0.051739  ...              -0.010798   \n",
      "6424              0.001486              -0.000402  ...              -0.009528   \n",
      "6724             -0.003756              -0.038396  ...              -0.006542   \n",
      "4386              0.088425               0.057075  ...              -0.002261   \n",
      "\n",
      "      dfb_Contract_Two year  dfb_PaperlessBilling_Yes  \\\n",
      "268                0.150649                 -0.028090   \n",
      "4272               0.156924                  0.047321   \n",
      "430               -0.045796                  0.046011   \n",
      "4819               0.147109                 -0.029894   \n",
      "6792               0.001336                 -0.041046   \n",
      "4149               0.147116                 -0.059409   \n",
      "6813               0.129471                 -0.050206   \n",
      "6424               0.141415                  0.022282   \n",
      "6724               0.133375                  0.027398   \n",
      "4386               0.132555                 -0.042647   \n",
      "\n",
      "      dfb_PaymentMethod_Credit card (automatic)  \\\n",
      "268                                    0.002065   \n",
      "4272                                   0.069472   \n",
      "430                                    0.002868   \n",
      "4819                                  -0.062100   \n",
      "6792                                   0.000096   \n",
      "4149                                   0.002470   \n",
      "6813                                   0.000860   \n",
      "6424                                  -0.000003   \n",
      "6724                                   0.068817   \n",
      "4386                                  -0.058882   \n",
      "\n",
      "      dfb_PaymentMethod_Electronic check  dfb_PaymentMethod_Mailed check  \\\n",
      "268                             0.034545                        0.073953   \n",
      "4272                            0.028910                        0.013265   \n",
      "430                             0.023788                        0.077306   \n",
      "4819                           -0.043691                       -0.062067   \n",
      "6792                            0.056325                        0.004253   \n",
      "4149                            0.050258                        0.027727   \n",
      "6813                            0.061843                        0.021942   \n",
      "6424                            0.048549                        0.031525   \n",
      "6724                            0.023941                        0.017079   \n",
      "4386                           -0.039543                       -0.051924   \n",
      "\n",
      "       cooks_d  standard_resid  hat_diag  dffits_internal  \n",
      "268   0.005321       18.500055  0.000373         0.357343  \n",
      "4272  0.004826       13.134327  0.000671         0.340320  \n",
      "430   0.004608        9.266894  0.001286         0.332570  \n",
      "4819  0.004598       16.863743  0.000388         0.332204  \n",
      "6792  0.003846        9.395479  0.001045         0.303827  \n",
      "4149  0.003792        6.320565  0.002273         0.301660  \n",
      "6813  0.003733        8.382529  0.001274         0.299334  \n",
      "6424  0.003247        5.264054  0.002804         0.279152  \n",
      "6724  0.003056       10.088367  0.000720         0.270827  \n",
      "4386  0.003015       13.443934  0.000400         0.269001  \n",
      "\n",
      "[10 rows x 28 columns]\n",
      "\n",
      "High leverage (hat_diag > 2p/n):\n",
      "      dfb_const  dfb_SeniorCitizen  dfb_tenure  dfb_MonthlyCharges  \\\n",
      "4933  -0.050500          -0.003521    0.012933            0.047421   \n",
      "1029   0.022844           0.048527    0.002292           -0.028080   \n",
      "4338  -0.001585          -0.038387    0.017748           -0.006443   \n",
      "5330   0.028877           0.030363    0.006437           -0.035332   \n",
      "1661   0.050582          -0.018238    0.018023           -0.056242   \n",
      "678    0.073708           0.012236   -0.026884           -0.071050   \n",
      "1689  -0.016595           0.000836    0.009225            0.013655   \n",
      "6486   0.050488          -0.009979   -0.012691           -0.043973   \n",
      "2400  -0.025295          -0.003435   -0.001204            0.023140   \n",
      "965   -0.009434           0.047759    0.006359            0.006929   \n",
      "\n",
      "      dfb_TotalCharges  dfb_gender_Male  dfb_Partner_Yes  dfb_Dependents_Yes  \\\n",
      "4933         -0.001966         0.015397         0.027669           -0.044000   \n",
      "1029         -0.012921        -0.016890         0.011940            0.034495   \n",
      "4338         -0.011556        -0.016845         0.010680           -0.002126   \n",
      "5330         -0.016999         0.017088         0.026341           -0.015270   \n",
      "1661         -0.028826         0.016159        -0.010968            0.006852   \n",
      "678           0.048112        -0.022761         0.007090            0.011355   \n",
      "1689          0.000657        -0.015769        -0.012633           -0.018795   \n",
      "6486         -0.002916        -0.021883         0.043986           -0.031934   \n",
      "2400          0.005884         0.010920         0.022320           -0.031608   \n",
      "965          -0.017681         0.023028        -0.015677            0.002512   \n",
      "\n",
      "      dfb_PhoneService_Yes  dfb_MultipleLines_Yes  ...  dfb_Contract_One year  \\\n",
      "4933             -0.036731              -0.043670  ...               0.013276   \n",
      "1029              0.027616               0.018856  ...              -0.003737   \n",
      "4338              0.015315               0.005121  ...               0.008791   \n",
      "5330              0.036107               0.025010  ...              -0.005739   \n",
      "1661              0.055752               0.052649  ...               0.023905   \n",
      "678               0.068314               0.046095  ...               0.007018   \n",
      "1689             -0.005886              -0.013220  ...               0.013153   \n",
      "6486              0.046791               0.058901  ...              -0.011880   \n",
      "2400             -0.022575              -0.016213  ...               0.010034   \n",
      "965              -0.005559              -0.015033  ...              -0.010691   \n",
      "\n",
      "      dfb_Contract_Two year  dfb_PaperlessBilling_Yes  \\\n",
      "4933               0.008601                 -0.016783   \n",
      "1029              -0.003803                  0.012901   \n",
      "4338               0.007789                  0.026085   \n",
      "5330              -0.003671                  0.009028   \n",
      "1661               0.020346                 -0.004144   \n",
      "678               -0.003538                  0.038917   \n",
      "1689               0.008683                  0.019202   \n",
      "6486              -0.011857                 -0.035218   \n",
      "2400               0.010681                  0.019217   \n",
      "965               -0.008481                 -0.037875   \n",
      "\n",
      "      dfb_PaymentMethod_Credit card (automatic)  \\\n",
      "4933                                   0.002972   \n",
      "1029                                   0.000850   \n",
      "4338                                  -0.028571   \n",
      "5330                                  -0.000402   \n",
      "1661                                   0.023930   \n",
      "678                                    0.000642   \n",
      "1689                                   0.000581   \n",
      "6486                                  -0.036842   \n",
      "2400                                   0.021942   \n",
      "965                                    0.038675   \n",
      "\n",
      "      dfb_PaymentMethod_Electronic check  dfb_PaymentMethod_Mailed check  \\\n",
      "4933                            0.004757                       -0.025962   \n",
      "1029                           -0.003514                        0.031379   \n",
      "4338                            0.005176                        0.008816   \n",
      "5330                           -0.003734                        0.028678   \n",
      "1661                            0.032099                        0.016903   \n",
      "678                             0.008933                       -0.042191   \n",
      "1689                            0.001972                       -0.020872   \n",
      "6486                           -0.046176                       -0.045010   \n",
      "2400                            0.025258                        0.024328   \n",
      "965                            -0.005597                       -0.002797   \n",
      "\n",
      "       cooks_d  standard_resid  hat_diag  dffits_internal  \n",
      "4933  0.000657       -1.025603  0.014762        -0.125542  \n",
      "1029  0.000567        1.013029  0.013088         0.116661  \n",
      "4338  0.000443       -0.908812  0.012706        -0.103100  \n",
      "5330  0.000398        0.861556  0.012702         0.097723  \n",
      "1661  0.000361       -0.821679  0.012661        -0.093049  \n",
      "678   0.000863       -1.293791  0.012224        -0.143929  \n",
      "1689  0.000340       -0.815486  0.012123        -0.090337  \n",
      "6486  0.000805        1.268357  0.011872         0.139029  \n",
      "2400  0.000256       -0.715874  0.011848        -0.078387  \n",
      "965   0.000622        1.123212  0.011694         0.122179  \n",
      "\n",
      "[10 rows x 28 columns]\n",
      "\n",
      "Large residuals (|standard_resid| > 3):\n",
      "      dfb_const  dfb_SeniorCitizen  dfb_tenure  dfb_MonthlyCharges  \\\n",
      "268   -0.024565          -0.000963    0.284109           -0.003224   \n",
      "4819  -0.018826           0.018796    0.226179            0.006281   \n",
      "5441  -0.030692          -0.017501    0.098918            0.023881   \n",
      "4386   0.068906           0.011811    0.105191           -0.076394   \n",
      "4272  -0.049157          -0.020343    0.225220            0.024106   \n",
      "3779  -0.001704           0.099013    0.053231           -0.010898   \n",
      "6724  -0.032421           0.090176    0.087878            0.019232   \n",
      "6792  -0.027522          -0.015823    0.234708            0.006963   \n",
      "430   -0.031127          -0.009368    0.289276            0.000007   \n",
      "5589   0.007266          -0.000096    0.096123           -0.012652   \n",
      "\n",
      "      dfb_TotalCharges  dfb_gender_Male  dfb_Partner_Yes  dfb_Dependents_Yes  \\\n",
      "268          -0.268957         0.031430        -0.037621           -0.033410   \n",
      "4819         -0.218106         0.033157        -0.082538            0.072571   \n",
      "5441         -0.085481        -0.039523         0.040599           -0.057183   \n",
      "4386         -0.103833         0.037866         0.003510            0.039124   \n",
      "4272         -0.232847         0.033096         0.050241           -0.065790   \n",
      "3779         -0.055930         0.037028        -0.012004            0.058286   \n",
      "6724         -0.076100        -0.032579        -0.050516           -0.006945   \n",
      "6792         -0.220805         0.033178        -0.041795           -0.022726   \n",
      "430          -0.251860        -0.042170         0.006532            0.040998   \n",
      "5589         -0.088049        -0.038671        -0.031614           -0.023785   \n",
      "\n",
      "      dfb_PhoneService_Yes  dfb_MultipleLines_Yes  ...  dfb_Contract_One year  \\\n",
      "268               0.017646               0.003720  ...              -0.002403   \n",
      "4819              0.004920              -0.006295  ...              -0.001335   \n",
      "5441             -0.012326              -0.001631  ...              -0.016099   \n",
      "4386              0.088425               0.057075  ...              -0.002261   \n",
      "4272             -0.013968               0.013401  ...               0.008883   \n",
      "3779              0.021427               0.026405  ...              -0.017771   \n",
      "6724             -0.003756              -0.038396  ...              -0.006542   \n",
      "6792              0.002028               0.030452  ...               0.071695   \n",
      "430               0.013665              -0.004895  ...              -0.064019   \n",
      "5589              0.027012               0.000657  ...               0.004034   \n",
      "\n",
      "      dfb_Contract_Two year  dfb_PaperlessBilling_Yes  \\\n",
      "268                0.150649                 -0.028090   \n",
      "4819               0.147109                 -0.029894   \n",
      "5441               0.120098                 -0.046405   \n",
      "4386               0.132555                 -0.042647   \n",
      "4272               0.156924                  0.047321   \n",
      "3779               0.119806                 -0.054123   \n",
      "6724               0.133375                  0.027398   \n",
      "6792               0.001336                 -0.041046   \n",
      "430               -0.045796                  0.046011   \n",
      "5589               0.142834                 -0.044895   \n",
      "\n",
      "      dfb_PaymentMethod_Credit card (automatic)  \\\n",
      "268                                    0.002065   \n",
      "4819                                  -0.062100   \n",
      "5441                                   0.071897   \n",
      "4386                                  -0.058882   \n",
      "4272                                   0.069472   \n",
      "3779                                   0.068237   \n",
      "6724                                   0.068817   \n",
      "6792                                   0.000096   \n",
      "430                                    0.002868   \n",
      "5589                                   0.066312   \n",
      "\n",
      "      dfb_PaymentMethod_Electronic check  dfb_PaymentMethod_Mailed check  \\\n",
      "268                             0.034545                        0.073953   \n",
      "4819                           -0.043691                       -0.062067   \n",
      "5441                            0.038492                        0.021269   \n",
      "4386                           -0.039543                       -0.051924   \n",
      "4272                            0.028910                        0.013265   \n",
      "3779                            0.028955                        0.014900   \n",
      "6724                            0.023941                        0.017079   \n",
      "6792                            0.056325                        0.004253   \n",
      "430                             0.023788                        0.077306   \n",
      "5589                            0.026492                        0.007258   \n",
      "\n",
      "       cooks_d  standard_resid  hat_diag  dffits_internal  \n",
      "268   0.005321       18.500055  0.000373         0.357343  \n",
      "4819  0.004598       16.863743  0.000388         0.332204  \n",
      "5441  0.002874       14.048719  0.000349         0.262619  \n",
      "4386  0.003015       13.443934  0.000400         0.269001  \n",
      "4272  0.004826       13.134327  0.000671         0.340320  \n",
      "3779  0.002822       10.721385  0.000589         0.260237  \n",
      "6724  0.003056       10.088367  0.000720         0.270827  \n",
      "6792  0.003846        9.395479  0.001045         0.303827  \n",
      "430   0.004608        9.266894  0.001286         0.332570  \n",
      "5589  0.002700        8.762410  0.000843         0.254536  \n",
      "\n",
      "[10 rows x 28 columns]\n"
     ]
    }
   ],
   "source": [
    "infl = logit_res.get_influence()\n",
    "inf = infl.summary_frame()  # includes 'hat_diag', 'cooks_d', 'standard_resid' for Logit\n",
    "\n",
    "n = len(y_train)\n",
    "p = X_train_c.shape[1]  # includes intercept\n",
    "cook_thr = 4 / n\n",
    "lev_thr = 2 * p / n\n",
    "\n",
    "print(\"\\nPotentially influential (Cook's D > 4/n):\")\n",
    "print(inf[inf[\"cooks_d\"] > cook_thr].sort_values(\"cooks_d\", ascending=False).head(10))\n",
    "\n",
    "print(\"\\nHigh leverage (hat_diag > 2p/n):\")\n",
    "print(inf[inf[\"hat_diag\"] > lev_thr].sort_values(\"hat_diag\", ascending=False).head(10))\n",
    "\n",
    "print(\"\\nLarge residuals (|standard_resid| > 3):\")\n",
    "print(\n",
    "    inf[inf[\"standard_resid\"].abs() > 3]\n",
    "    .sort_values(\"standard_resid\", key=np.abs, ascending=False)\n",
    "    .head(10)\n",
    ")"
   ]
  },
  {
   "cell_type": "markdown",
   "metadata": {},
   "source": [
    "# (4) Generalized Additive Model"
   ]
  },
  {
   "cell_type": "code",
   "execution_count": 166,
   "metadata": {},
   "outputs": [
    {
     "name": "stderr",
     "output_type": "stream",
     "text": [
      "  0% (0 of 11) |                         | Elapsed Time: 0:00:00 ETA:  --:--:--\n",
      "  9% (1 of 11) |##                       | Elapsed Time: 0:00:03 ETA:   0:00:32\n",
      " 18% (2 of 11) |####                     | Elapsed Time: 0:00:05 ETA:   0:00:23\n",
      " 27% (3 of 11) |######                   | Elapsed Time: 0:00:06 ETA:   0:00:16\n",
      " 36% (4 of 11) |#########                | Elapsed Time: 0:00:09 ETA:   0:00:16\n",
      " 45% (5 of 11) |###########              | Elapsed Time: 0:00:10 ETA:   0:00:12\n",
      " 54% (6 of 11) |#############            | Elapsed Time: 0:00:11 ETA:   0:00:09\n",
      " 63% (7 of 11) |###############          | Elapsed Time: 0:00:12 ETA:   0:00:07\n",
      " 72% (8 of 11) |##################       | Elapsed Time: 0:00:13 ETA:   0:00:05\n",
      " 81% (9 of 11) |####################     | Elapsed Time: 0:00:15 ETA:   0:00:03\n",
      " 90% (10 of 11) |#####################   | Elapsed Time: 0:00:16 ETA:   0:00:01\n",
      "100% (11 of 11) |########################| Elapsed Time: 0:00:17 Time:  0:00:17\n"
     ]
    }
   ],
   "source": [
    "# this was my first time using a GAM, so talked with chatGPT about the different types of GAMs\n",
    "# it recommended logisticGAM since we have a binary Y\n",
    "gam = LogisticGAM().gridsearch(X_train.values, y_train.values)"
   ]
  },
  {
   "cell_type": "code",
   "execution_count": 167,
   "metadata": {},
   "outputs": [
    {
     "name": "stdout",
     "output_type": "stream",
     "text": [
      "LogisticGAM                                                                                               \n",
      "=============================================== ==========================================================\n",
      "Distribution:                      BinomialDist Effective DoF:                                      34.203\n",
      "Link Function:                        LogitLink Log Likelihood:                                 -2262.2437\n",
      "Number of Samples:                         5625 AIC:                                             4592.8933\n",
      "                                                AICc:                                            4593.3494\n",
      "                                                UBRE:                                               2.8214\n",
      "                                                Scale:                                                 1.0\n",
      "                                                Pseudo R-Squared:                                   0.3054\n",
      "==========================================================================================================\n",
      "Feature Function                  Lambda               Rank         EDoF         P > x        Sig. Code   \n",
      "================================= ==================== ============ ============ ============ ============\n",
      "s(0)                              [63.0957]            20           2.1          1.23e-02     *           \n",
      "s(1)                              [63.0957]            20           5.3          4.90e-14     ***         \n",
      "s(2)                              [63.0957]            20           5.6          5.32e-03     **          \n",
      "s(3)                              [63.0957]            20           3.5          3.59e-04     ***         \n",
      "s(4)                              [63.0957]            20           1.0          9.62e-01                 \n",
      "s(5)                              [63.0957]            20           1.0          6.28e-01                 \n",
      "s(6)                              [63.0957]            20           1.0          1.87e-01                 \n",
      "s(7)                              [63.0957]            20           0.8          4.29e-02     *           \n",
      "s(8)                              [63.0957]            20           1.0          2.81e-05     ***         \n",
      "s(9)                              [63.0957]            20           0.8          7.48e-06     ***         \n",
      "s(10)                             [63.0957]            20           0.7          8.56e-09     ***         \n",
      "s(11)                             [63.0957]            20           1.0          8.99e-01                 \n",
      "s(12)                             [63.0957]            20           1.0          2.43e-01                 \n",
      "s(13)                             [63.0957]            20           1.0          3.58e-02     *           \n",
      "s(14)                             [63.0957]            20           0.9          9.92e-01                 \n",
      "s(15)                             [63.0957]            20           1.0          9.08e-05     ***         \n",
      "s(16)                             [63.0957]            20           0.9          5.81e-05     ***         \n",
      "s(17)                             [63.0957]            20           0.9          2.21e-09     ***         \n",
      "s(18)                             [63.0957]            20           0.9          2.05e-11     ***         \n",
      "s(19)                             [63.0957]            20           1.0          3.34e-03     **          \n",
      "s(20)                             [63.0957]            20           0.9          5.57e-01                 \n",
      "s(21)                             [63.0957]            20           0.9          1.46e-01                 \n",
      "s(22)                             [63.0957]            20           0.9          5.90e-01                 \n",
      "intercept                                              1            0.0          1.44e-10     ***         \n",
      "==========================================================================================================\n",
      "Significance codes:  0 '***' 0.001 '**' 0.01 '*' 0.05 '.' 0.1 ' ' 1\n",
      "\n",
      "WARNING: Fitting splines and a linear function to a feature introduces a model identifiability problem\n",
      "         which can cause p-values to appear significant when they are not.\n",
      "\n",
      "WARNING: p-values calculated in this manner behave correctly for un-penalized models or models with\n",
      "         known smoothing parameters, but when smoothing parameters have been estimated, the p-values\n",
      "         are typically lower than they should be, meaning that the tests reject the null too readily.\n"
     ]
    },
    {
     "name": "stderr",
     "output_type": "stream",
     "text": [
      "/var/folders/bs/tlrmg2n164520pry59rs7fvh0000gn/T/ipykernel_62034/3358381670.py:1: UserWarning: KNOWN BUG: p-values computed in this summary are likely much smaller than they should be. \n",
      " \n",
      "Please do not make inferences based on these values! \n",
      "\n",
      "Collaborate on a solution, and stay up to date at: \n",
      "github.com/dswah/pyGAM/issues/163 \n",
      "\n",
      "  gam.summary()\n"
     ]
    }
   ],
   "source": [
    "gam.summary()"
   ]
  },
  {
   "cell_type": "code",
   "execution_count": 170,
   "metadata": {},
   "outputs": [
    {
     "data": {
      "image/png": "[encoded data removed]",
      "text/plain": [
       "<Figure size 600x400 with 1 Axes>"
      ]
     },
     "metadata": {},
     "output_type": "display_data"
    }
   ],
   "source": [
    "feature_names = list(X_train.columns)\n",
    "cont_cols = [c for c in feature_names if X_train[c].nunique() > 10]  # tweak if needed\n",
    "\n",
    "\n",
    "def plot_smooth(gam, feat):\n",
    "    i = feature_names.index(feat)  # term index\n",
    "    XX = gam.generate_X_grid(term=i)  # grid over this feature\n",
    "    pdp, confi = gam.partial_dependence(term=i, X=XX, width=0.95)\n",
    "    lo, hi = confi[:, 0], confi[:, 1]  # 1-D lower/upper bands\n",
    "    x = XX[:, i]\n",
    "\n",
    "    plt.figure(figsize=(6, 4))\n",
    "    plt.plot(x, pdp)\n",
    "    plt.fill_between(x, lo, hi, alpha=0.2)\n",
    "    plt.xlabel(feat)\n",
    "    plt.ylabel(\"Effect on log-odds of churn\")\n",
    "    plt.title(f\"GAM smooth — {feat}\")\n",
    "    plt.tight_layout()\n",
    "    plt.show()\n",
    "\n",
    "\n",
    "# examples\n",
    "plot_smooth(gam, \"tenure\")\n",
    "# plot_smooth(gam, \"MonthlyCharges\")\n",
    "# plot_smooth(gam, \"TotalCharges\")"
   ]
  },
  {
   "cell_type": "markdown",
   "metadata": {},
   "source": [
    "# (5) Model Comparison"
   ]
  },
  {
   "cell_type": "markdown",
   "metadata": {},
   "source": []
  }
 ],
 "metadata": {
  "kernelspec": {
   "display_name": "base",
   "language": "python",
   "name": "python3"
  },
  "language_info": {
   "codemirror_mode": {
    "name": "ipython",
    "version": 3
   },
   "file_extension": ".py",
   "mimetype": "text/x-python",
   "name": "python",
   "nbconvert_exporter": "python",
   "pygments_lexer": "ipython3",
   "version": "3.12.6"
  }
 },
 "nbformat": 4,
 "nbformat_minor": 2
}
